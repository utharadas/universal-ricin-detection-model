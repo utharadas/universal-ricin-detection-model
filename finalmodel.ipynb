{
 "cells": [
  {
   "cell_type": "markdown",
   "id": "b4f9308b-6e03-4067-afa3-ee01cceef50a",
   "metadata": {},
   "source": [
    "# Final RFC Model"
   ]
  },
  {
   "cell_type": "code",
   "execution_count": 1,
   "id": "d50ab3eb-4160-4f88-bcf0-def866ec8579",
   "metadata": {},
   "outputs": [],
   "source": [
    "import pandas as pd\n",
    "import numpy as np\n",
    "import pickle\n",
    "\n"
   ]
  },
  {
   "cell_type": "markdown",
   "id": "e59ab12d-b093-4ac5-af4b-24057e95e15f",
   "metadata": {},
   "source": [
    "### Read in Data\n"
   ]
  },
  {
   "cell_type": "code",
   "execution_count": 2,
   "id": "14db1a39-d141-4920-a31c-5fc49057002b",
   "metadata": {},
   "outputs": [
    {
     "name": "stdout",
     "output_type": "stream",
     "text": [
      "(14580, 22)\n"
     ]
    }
   ],
   "source": [
    "data_path = 'sample_data.csv'\n",
    "#Change the data path to your file name\n",
    "df = pd.read_csv(data_path)\n",
    "print(df.shape)"
   ]
  },
  {
   "cell_type": "markdown",
   "id": "4d486ce1-38a1-4cd7-aea6-4a91804b6d41",
   "metadata": {},
   "source": [
    "### Data Preprocessing"
   ]
  },
  {
   "cell_type": "code",
   "execution_count": 3,
   "id": "1e648f3d-ec76-4bee-bb23-a13c75c2a64a",
   "metadata": {},
   "outputs": [],
   "source": [
    "anomalies = 'Tomato Juice'\n",
    "#If anomalies found in data, remove them. Set aomalies to the anomalous food\n",
    "\n",
    "df = df[df['Food']!=anomalies]"
   ]
  },
  {
   "cell_type": "code",
   "execution_count": 4,
   "id": "a87d1e0d-0b06-4a6f-acb4-813e3272e26b",
   "metadata": {},
   "outputs": [],
   "source": [
    "columns_to_drop = ['Sodium', 'Protein', 'Cholesterol', 'Fat', 'Potassium','L', 'Conductivity (100H)', 'Conductivity (100kH)']\n",
    "# After feature analysis, drop features that are highly corellated or have\n",
    "# a low mutual information score. Edit the variable columns_to_drop\n",
    "\n",
    "df=df.drop(columns= columns_to_drop)"
   ]
  },
  {
   "cell_type": "markdown",
   "id": "6100e34e-111e-4324-9f49-9fffd046668f",
   "metadata": {},
   "source": [
    "### Feature Engineering"
   ]
  },
  {
   "cell_type": "code",
   "execution_count": 5,
   "id": "86b252f4-48b6-4ee3-a6aa-9b82eb9eb387",
   "metadata": {},
   "outputs": [],
   "source": [
    "df['Last5Z'] = df.groupby('Food')['Z(Ohm)'].transform(lambda x: x.rolling(window=5, center=True).mean())\n",
    "df['Last5increase'] = df.groupby('Food')['Z(Ohm)'].transform(lambda x: x.shift(-2)-x.shift(2))\n",
    "df['Last5freq'] = df.groupby('Food')['Freq(Hz)'].transform(lambda x: x.shift(-2)-x.shift(2))\n",
    "df['Last5slope'] = df['Last5increase']/df['Last5freq']\n",
    "df['Last5increasePA'] = df.groupby('Food')['PA'].transform(lambda x: x.shift(-2)-x.shift(2))\n",
    "df['Last5PA'] = df.groupby('Food')['PA'].transform(lambda x: x.rolling(window=5, center=True).mean())\n",
    "df['Last5slopePA'] = df['Last5increasePA']/df['Last5freq']"
   ]
  },
  {
   "cell_type": "code",
   "execution_count": 6,
   "id": "1106a926-530f-4b54-9ab2-5e8da694465d",
   "metadata": {},
   "outputs": [],
   "source": [
    "df=df.dropna()\n",
    "# Drop all null values"
   ]
  },
  {
   "cell_type": "code",
   "execution_count": 7,
   "id": "ad23f185-2c88-4bd7-bab5-6f9a6238bdd1",
   "metadata": {},
   "outputs": [],
   "source": [
    "dfcopy = df.copy()\n",
    "#Incase we need a copy later"
   ]
  },
  {
   "cell_type": "markdown",
   "id": "cf06b3db-44e0-44b7-a5bf-d9447ee7a711",
   "metadata": {},
   "source": [
    "### TrainTestSplit"
   ]
  },
  {
   "cell_type": "code",
   "execution_count": 8,
   "id": "a10b6780-5d7d-4a47-a4a2-60e978c36bce",
   "metadata": {},
   "outputs": [],
   "source": [
    "from sklearn.compose import ColumnTransformer\n",
    "from sklearn.preprocessing import StandardScaler\n",
    "from sklearn.ensemble import RandomForestClassifier\n",
    "from sklearn.pipeline import Pipeline\n",
    "from sklearn.model_selection import train_test_split"
   ]
  },
  {
   "cell_type": "code",
   "execution_count": 9,
   "id": "ab3d9903-1cea-46ec-bd96-14d25b7c3032",
   "metadata": {},
   "outputs": [],
   "source": [
    "X = df.drop(columns = ['R+'])\n",
    "y = df['R+']"
   ]
  },
  {
   "cell_type": "code",
   "execution_count": 10,
   "id": "5386a556-e44c-48fc-ab7c-b6be83cc5d04",
   "metadata": {},
   "outputs": [],
   "source": [
    "X_train, X_test, y_train, y_test = train_test_split(X, y, test_size=0.2, random_state=42)\n",
    "# Splitting the data. Can experiemnt with test_size or random_state\n",
    "\n",
    "# Drop 'Food' column because it does not contibute to the output\n",
    "X_train = X_train.drop(columns = ['Food'])\n",
    "X_test_foods = X_test.copy()\n",
    "# Create a copy of X_test because we will need it to analyse accuracy by food later\n",
    "X_test = X_test.drop(columns = ['Food'])\n",
    "y_train = y_train.drop(columns = ['Food'])\n",
    "y_test = y_test.drop(columns = ['Food'])"
   ]
  },
  {
   "cell_type": "markdown",
   "id": "e30426d9-4153-4588-90d6-0ed77d13a6fd",
   "metadata": {},
   "source": [
    "### Pipeline and Model Training"
   ]
  },
  {
   "cell_type": "code",
   "execution_count": 11,
   "id": "13ea34c3-4f2a-49e8-be9e-43d7f93dc1e8",
   "metadata": {},
   "outputs": [],
   "source": [
    "ss=[]\n",
    "ss = ['Z(Ohm)', 'Last5Z', 'Last5increase', 'PA']\n",
    "\n",
    "# Add the variables you want to standard scale into the variable ss\n",
    "\n",
    "preprocessor = ColumnTransformer(\n",
    "    transformers=[\n",
    "        ('scaler', StandardScaler(), ss)\n",
    "    ], remainder='passthrough'\n",
    ")"
   ]
  },
  {
   "cell_type": "code",
   "execution_count": 12,
   "id": "79894b59-2fe2-4afc-b684-cc311f5b9168",
   "metadata": {},
   "outputs": [],
   "source": [
    "# Create a pipeline\n",
    "pipeline = Pipeline(steps=[\n",
    "    ('preprocessor', preprocessor),\n",
    "    ('classifier', RandomForestClassifier(criterion = 'gini', random_state=42))\n",
    "])\n",
    "\n",
    "# Can experiemnt with hyperparameters given below\n",
    "# pipeline = Pipeline(steps=[\n",
    "#     ('preprocessor', preprocessor),\n",
    "#     ('classifier', RandomForestClassifier(criterion = 'gini',\n",
    "#                                           max_depth=30,\n",
    "#                                           min_samples_split=5,\n",
    "#                                           random_state=42))\n",
    "# ]) "
   ]
  },
  {
   "cell_type": "code",
   "execution_count": 13,
   "id": "d54f7581-605c-452d-a7b4-84dfd980913f",
   "metadata": {},
   "outputs": [
    {
     "name": "stderr",
     "output_type": "stream",
     "text": [
      "C:\\Users\\maima\\AppData\\Local\\Programs\\Python\\Python312\\Lib\\site-packages\\sklearn\\compose\\_column_transformer.py:1624: FutureWarning: \n",
      "The format of the columns of the 'remainder' transformer in ColumnTransformer.transformers_ will change in version 1.7 to match the format of the other transformers.\n",
      "At the moment the remainder columns are stored as indices (of type int). With the same ColumnTransformer configuration, in the future they will be stored as column names (of type str).\n",
      "To use the new behavior now and suppress this warning, use ColumnTransformer(force_int_remainder_cols=False).\n",
      "\n",
      "  warnings.warn(\n"
     ]
    },
    {
     "data": {
      "text/html": [
       "<style>#sk-container-id-1 {\n",
       "  /* Definition of color scheme common for light and dark mode */\n",
       "  --sklearn-color-text: black;\n",
       "  --sklearn-color-line: gray;\n",
       "  /* Definition of color scheme for unfitted estimators */\n",
       "  --sklearn-color-unfitted-level-0: #fff5e6;\n",
       "  --sklearn-color-unfitted-level-1: #f6e4d2;\n",
       "  --sklearn-color-unfitted-level-2: #ffe0b3;\n",
       "  --sklearn-color-unfitted-level-3: chocolate;\n",
       "  /* Definition of color scheme for fitted estimators */\n",
       "  --sklearn-color-fitted-level-0: #f0f8ff;\n",
       "  --sklearn-color-fitted-level-1: #d4ebff;\n",
       "  --sklearn-color-fitted-level-2: #b3dbfd;\n",
       "  --sklearn-color-fitted-level-3: cornflowerblue;\n",
       "\n",
       "  /* Specific color for light theme */\n",
       "  --sklearn-color-text-on-default-background: var(--sg-text-color, var(--theme-code-foreground, var(--jp-content-font-color1, black)));\n",
       "  --sklearn-color-background: var(--sg-background-color, var(--theme-background, var(--jp-layout-color0, white)));\n",
       "  --sklearn-color-border-box: var(--sg-text-color, var(--theme-code-foreground, var(--jp-content-font-color1, black)));\n",
       "  --sklearn-color-icon: #696969;\n",
       "\n",
       "  @media (prefers-color-scheme: dark) {\n",
       "    /* Redefinition of color scheme for dark theme */\n",
       "    --sklearn-color-text-on-default-background: var(--sg-text-color, var(--theme-code-foreground, var(--jp-content-font-color1, white)));\n",
       "    --sklearn-color-background: var(--sg-background-color, var(--theme-background, var(--jp-layout-color0, #111)));\n",
       "    --sklearn-color-border-box: var(--sg-text-color, var(--theme-code-foreground, var(--jp-content-font-color1, white)));\n",
       "    --sklearn-color-icon: #878787;\n",
       "  }\n",
       "}\n",
       "\n",
       "#sk-container-id-1 {\n",
       "  color: var(--sklearn-color-text);\n",
       "}\n",
       "\n",
       "#sk-container-id-1 pre {\n",
       "  padding: 0;\n",
       "}\n",
       "\n",
       "#sk-container-id-1 input.sk-hidden--visually {\n",
       "  border: 0;\n",
       "  clip: rect(1px 1px 1px 1px);\n",
       "  clip: rect(1px, 1px, 1px, 1px);\n",
       "  height: 1px;\n",
       "  margin: -1px;\n",
       "  overflow: hidden;\n",
       "  padding: 0;\n",
       "  position: absolute;\n",
       "  width: 1px;\n",
       "}\n",
       "\n",
       "#sk-container-id-1 div.sk-dashed-wrapped {\n",
       "  border: 1px dashed var(--sklearn-color-line);\n",
       "  margin: 0 0.4em 0.5em 0.4em;\n",
       "  box-sizing: border-box;\n",
       "  padding-bottom: 0.4em;\n",
       "  background-color: var(--sklearn-color-background);\n",
       "}\n",
       "\n",
       "#sk-container-id-1 div.sk-container {\n",
       "  /* jupyter's `normalize.less` sets `[hidden] { display: none; }`\n",
       "     but bootstrap.min.css set `[hidden] { display: none !important; }`\n",
       "     so we also need the `!important` here to be able to override the\n",
       "     default hidden behavior on the sphinx rendered scikit-learn.org.\n",
       "     See: https://github.com/scikit-learn/scikit-learn/issues/21755 */\n",
       "  display: inline-block !important;\n",
       "  position: relative;\n",
       "}\n",
       "\n",
       "#sk-container-id-1 div.sk-text-repr-fallback {\n",
       "  display: none;\n",
       "}\n",
       "\n",
       "div.sk-parallel-item,\n",
       "div.sk-serial,\n",
       "div.sk-item {\n",
       "  /* draw centered vertical line to link estimators */\n",
       "  background-image: linear-gradient(var(--sklearn-color-text-on-default-background), var(--sklearn-color-text-on-default-background));\n",
       "  background-size: 2px 100%;\n",
       "  background-repeat: no-repeat;\n",
       "  background-position: center center;\n",
       "}\n",
       "\n",
       "/* Parallel-specific style estimator block */\n",
       "\n",
       "#sk-container-id-1 div.sk-parallel-item::after {\n",
       "  content: \"\";\n",
       "  width: 100%;\n",
       "  border-bottom: 2px solid var(--sklearn-color-text-on-default-background);\n",
       "  flex-grow: 1;\n",
       "}\n",
       "\n",
       "#sk-container-id-1 div.sk-parallel {\n",
       "  display: flex;\n",
       "  align-items: stretch;\n",
       "  justify-content: center;\n",
       "  background-color: var(--sklearn-color-background);\n",
       "  position: relative;\n",
       "}\n",
       "\n",
       "#sk-container-id-1 div.sk-parallel-item {\n",
       "  display: flex;\n",
       "  flex-direction: column;\n",
       "}\n",
       "\n",
       "#sk-container-id-1 div.sk-parallel-item:first-child::after {\n",
       "  align-self: flex-end;\n",
       "  width: 50%;\n",
       "}\n",
       "\n",
       "#sk-container-id-1 div.sk-parallel-item:last-child::after {\n",
       "  align-self: flex-start;\n",
       "  width: 50%;\n",
       "}\n",
       "\n",
       "#sk-container-id-1 div.sk-parallel-item:only-child::after {\n",
       "  width: 0;\n",
       "}\n",
       "\n",
       "/* Serial-specific style estimator block */\n",
       "\n",
       "#sk-container-id-1 div.sk-serial {\n",
       "  display: flex;\n",
       "  flex-direction: column;\n",
       "  align-items: center;\n",
       "  background-color: var(--sklearn-color-background);\n",
       "  padding-right: 1em;\n",
       "  padding-left: 1em;\n",
       "}\n",
       "\n",
       "\n",
       "/* Toggleable style: style used for estimator/Pipeline/ColumnTransformer box that is\n",
       "clickable and can be expanded/collapsed.\n",
       "- Pipeline and ColumnTransformer use this feature and define the default style\n",
       "- Estimators will overwrite some part of the style using the `sk-estimator` class\n",
       "*/\n",
       "\n",
       "/* Pipeline and ColumnTransformer style (default) */\n",
       "\n",
       "#sk-container-id-1 div.sk-toggleable {\n",
       "  /* Default theme specific background. It is overwritten whether we have a\n",
       "  specific estimator or a Pipeline/ColumnTransformer */\n",
       "  background-color: var(--sklearn-color-background);\n",
       "}\n",
       "\n",
       "/* Toggleable label */\n",
       "#sk-container-id-1 label.sk-toggleable__label {\n",
       "  cursor: pointer;\n",
       "  display: block;\n",
       "  width: 100%;\n",
       "  margin-bottom: 0;\n",
       "  padding: 0.5em;\n",
       "  box-sizing: border-box;\n",
       "  text-align: center;\n",
       "}\n",
       "\n",
       "#sk-container-id-1 label.sk-toggleable__label-arrow:before {\n",
       "  /* Arrow on the left of the label */\n",
       "  content: \"▸\";\n",
       "  float: left;\n",
       "  margin-right: 0.25em;\n",
       "  color: var(--sklearn-color-icon);\n",
       "}\n",
       "\n",
       "#sk-container-id-1 label.sk-toggleable__label-arrow:hover:before {\n",
       "  color: var(--sklearn-color-text);\n",
       "}\n",
       "\n",
       "/* Toggleable content - dropdown */\n",
       "\n",
       "#sk-container-id-1 div.sk-toggleable__content {\n",
       "  max-height: 0;\n",
       "  max-width: 0;\n",
       "  overflow: hidden;\n",
       "  text-align: left;\n",
       "  /* unfitted */\n",
       "  background-color: var(--sklearn-color-unfitted-level-0);\n",
       "}\n",
       "\n",
       "#sk-container-id-1 div.sk-toggleable__content.fitted {\n",
       "  /* fitted */\n",
       "  background-color: var(--sklearn-color-fitted-level-0);\n",
       "}\n",
       "\n",
       "#sk-container-id-1 div.sk-toggleable__content pre {\n",
       "  margin: 0.2em;\n",
       "  border-radius: 0.25em;\n",
       "  color: var(--sklearn-color-text);\n",
       "  /* unfitted */\n",
       "  background-color: var(--sklearn-color-unfitted-level-0);\n",
       "}\n",
       "\n",
       "#sk-container-id-1 div.sk-toggleable__content.fitted pre {\n",
       "  /* unfitted */\n",
       "  background-color: var(--sklearn-color-fitted-level-0);\n",
       "}\n",
       "\n",
       "#sk-container-id-1 input.sk-toggleable__control:checked~div.sk-toggleable__content {\n",
       "  /* Expand drop-down */\n",
       "  max-height: 200px;\n",
       "  max-width: 100%;\n",
       "  overflow: auto;\n",
       "}\n",
       "\n",
       "#sk-container-id-1 input.sk-toggleable__control:checked~label.sk-toggleable__label-arrow:before {\n",
       "  content: \"▾\";\n",
       "}\n",
       "\n",
       "/* Pipeline/ColumnTransformer-specific style */\n",
       "\n",
       "#sk-container-id-1 div.sk-label input.sk-toggleable__control:checked~label.sk-toggleable__label {\n",
       "  color: var(--sklearn-color-text);\n",
       "  background-color: var(--sklearn-color-unfitted-level-2);\n",
       "}\n",
       "\n",
       "#sk-container-id-1 div.sk-label.fitted input.sk-toggleable__control:checked~label.sk-toggleable__label {\n",
       "  background-color: var(--sklearn-color-fitted-level-2);\n",
       "}\n",
       "\n",
       "/* Estimator-specific style */\n",
       "\n",
       "/* Colorize estimator box */\n",
       "#sk-container-id-1 div.sk-estimator input.sk-toggleable__control:checked~label.sk-toggleable__label {\n",
       "  /* unfitted */\n",
       "  background-color: var(--sklearn-color-unfitted-level-2);\n",
       "}\n",
       "\n",
       "#sk-container-id-1 div.sk-estimator.fitted input.sk-toggleable__control:checked~label.sk-toggleable__label {\n",
       "  /* fitted */\n",
       "  background-color: var(--sklearn-color-fitted-level-2);\n",
       "}\n",
       "\n",
       "#sk-container-id-1 div.sk-label label.sk-toggleable__label,\n",
       "#sk-container-id-1 div.sk-label label {\n",
       "  /* The background is the default theme color */\n",
       "  color: var(--sklearn-color-text-on-default-background);\n",
       "}\n",
       "\n",
       "/* On hover, darken the color of the background */\n",
       "#sk-container-id-1 div.sk-label:hover label.sk-toggleable__label {\n",
       "  color: var(--sklearn-color-text);\n",
       "  background-color: var(--sklearn-color-unfitted-level-2);\n",
       "}\n",
       "\n",
       "/* Label box, darken color on hover, fitted */\n",
       "#sk-container-id-1 div.sk-label.fitted:hover label.sk-toggleable__label.fitted {\n",
       "  color: var(--sklearn-color-text);\n",
       "  background-color: var(--sklearn-color-fitted-level-2);\n",
       "}\n",
       "\n",
       "/* Estimator label */\n",
       "\n",
       "#sk-container-id-1 div.sk-label label {\n",
       "  font-family: monospace;\n",
       "  font-weight: bold;\n",
       "  display: inline-block;\n",
       "  line-height: 1.2em;\n",
       "}\n",
       "\n",
       "#sk-container-id-1 div.sk-label-container {\n",
       "  text-align: center;\n",
       "}\n",
       "\n",
       "/* Estimator-specific */\n",
       "#sk-container-id-1 div.sk-estimator {\n",
       "  font-family: monospace;\n",
       "  border: 1px dotted var(--sklearn-color-border-box);\n",
       "  border-radius: 0.25em;\n",
       "  box-sizing: border-box;\n",
       "  margin-bottom: 0.5em;\n",
       "  /* unfitted */\n",
       "  background-color: var(--sklearn-color-unfitted-level-0);\n",
       "}\n",
       "\n",
       "#sk-container-id-1 div.sk-estimator.fitted {\n",
       "  /* fitted */\n",
       "  background-color: var(--sklearn-color-fitted-level-0);\n",
       "}\n",
       "\n",
       "/* on hover */\n",
       "#sk-container-id-1 div.sk-estimator:hover {\n",
       "  /* unfitted */\n",
       "  background-color: var(--sklearn-color-unfitted-level-2);\n",
       "}\n",
       "\n",
       "#sk-container-id-1 div.sk-estimator.fitted:hover {\n",
       "  /* fitted */\n",
       "  background-color: var(--sklearn-color-fitted-level-2);\n",
       "}\n",
       "\n",
       "/* Specification for estimator info (e.g. \"i\" and \"?\") */\n",
       "\n",
       "/* Common style for \"i\" and \"?\" */\n",
       "\n",
       ".sk-estimator-doc-link,\n",
       "a:link.sk-estimator-doc-link,\n",
       "a:visited.sk-estimator-doc-link {\n",
       "  float: right;\n",
       "  font-size: smaller;\n",
       "  line-height: 1em;\n",
       "  font-family: monospace;\n",
       "  background-color: var(--sklearn-color-background);\n",
       "  border-radius: 1em;\n",
       "  height: 1em;\n",
       "  width: 1em;\n",
       "  text-decoration: none !important;\n",
       "  margin-left: 1ex;\n",
       "  /* unfitted */\n",
       "  border: var(--sklearn-color-unfitted-level-1) 1pt solid;\n",
       "  color: var(--sklearn-color-unfitted-level-1);\n",
       "}\n",
       "\n",
       ".sk-estimator-doc-link.fitted,\n",
       "a:link.sk-estimator-doc-link.fitted,\n",
       "a:visited.sk-estimator-doc-link.fitted {\n",
       "  /* fitted */\n",
       "  border: var(--sklearn-color-fitted-level-1) 1pt solid;\n",
       "  color: var(--sklearn-color-fitted-level-1);\n",
       "}\n",
       "\n",
       "/* On hover */\n",
       "div.sk-estimator:hover .sk-estimator-doc-link:hover,\n",
       ".sk-estimator-doc-link:hover,\n",
       "div.sk-label-container:hover .sk-estimator-doc-link:hover,\n",
       ".sk-estimator-doc-link:hover {\n",
       "  /* unfitted */\n",
       "  background-color: var(--sklearn-color-unfitted-level-3);\n",
       "  color: var(--sklearn-color-background);\n",
       "  text-decoration: none;\n",
       "}\n",
       "\n",
       "div.sk-estimator.fitted:hover .sk-estimator-doc-link.fitted:hover,\n",
       ".sk-estimator-doc-link.fitted:hover,\n",
       "div.sk-label-container:hover .sk-estimator-doc-link.fitted:hover,\n",
       ".sk-estimator-doc-link.fitted:hover {\n",
       "  /* fitted */\n",
       "  background-color: var(--sklearn-color-fitted-level-3);\n",
       "  color: var(--sklearn-color-background);\n",
       "  text-decoration: none;\n",
       "}\n",
       "\n",
       "/* Span, style for the box shown on hovering the info icon */\n",
       ".sk-estimator-doc-link span {\n",
       "  display: none;\n",
       "  z-index: 9999;\n",
       "  position: relative;\n",
       "  font-weight: normal;\n",
       "  right: .2ex;\n",
       "  padding: .5ex;\n",
       "  margin: .5ex;\n",
       "  width: min-content;\n",
       "  min-width: 20ex;\n",
       "  max-width: 50ex;\n",
       "  color: var(--sklearn-color-text);\n",
       "  box-shadow: 2pt 2pt 4pt #999;\n",
       "  /* unfitted */\n",
       "  background: var(--sklearn-color-unfitted-level-0);\n",
       "  border: .5pt solid var(--sklearn-color-unfitted-level-3);\n",
       "}\n",
       "\n",
       ".sk-estimator-doc-link.fitted span {\n",
       "  /* fitted */\n",
       "  background: var(--sklearn-color-fitted-level-0);\n",
       "  border: var(--sklearn-color-fitted-level-3);\n",
       "}\n",
       "\n",
       ".sk-estimator-doc-link:hover span {\n",
       "  display: block;\n",
       "}\n",
       "\n",
       "/* \"?\"-specific style due to the `<a>` HTML tag */\n",
       "\n",
       "#sk-container-id-1 a.estimator_doc_link {\n",
       "  float: right;\n",
       "  font-size: 1rem;\n",
       "  line-height: 1em;\n",
       "  font-family: monospace;\n",
       "  background-color: var(--sklearn-color-background);\n",
       "  border-radius: 1rem;\n",
       "  height: 1rem;\n",
       "  width: 1rem;\n",
       "  text-decoration: none;\n",
       "  /* unfitted */\n",
       "  color: var(--sklearn-color-unfitted-level-1);\n",
       "  border: var(--sklearn-color-unfitted-level-1) 1pt solid;\n",
       "}\n",
       "\n",
       "#sk-container-id-1 a.estimator_doc_link.fitted {\n",
       "  /* fitted */\n",
       "  border: var(--sklearn-color-fitted-level-1) 1pt solid;\n",
       "  color: var(--sklearn-color-fitted-level-1);\n",
       "}\n",
       "\n",
       "/* On hover */\n",
       "#sk-container-id-1 a.estimator_doc_link:hover {\n",
       "  /* unfitted */\n",
       "  background-color: var(--sklearn-color-unfitted-level-3);\n",
       "  color: var(--sklearn-color-background);\n",
       "  text-decoration: none;\n",
       "}\n",
       "\n",
       "#sk-container-id-1 a.estimator_doc_link.fitted:hover {\n",
       "  /* fitted */\n",
       "  background-color: var(--sklearn-color-fitted-level-3);\n",
       "}\n",
       "</style><div id=\"sk-container-id-1\" class=\"sk-top-container\"><div class=\"sk-text-repr-fallback\"><pre>Pipeline(steps=[(&#x27;preprocessor&#x27;,\n",
       "                 ColumnTransformer(remainder=&#x27;passthrough&#x27;,\n",
       "                                   transformers=[(&#x27;scaler&#x27;, StandardScaler(),\n",
       "                                                  [&#x27;Z(Ohm)&#x27;, &#x27;Last5Z&#x27;,\n",
       "                                                   &#x27;Last5increase&#x27;, &#x27;PA&#x27;])])),\n",
       "                (&#x27;classifier&#x27;, RandomForestClassifier(random_state=42))])</pre><b>In a Jupyter environment, please rerun this cell to show the HTML representation or trust the notebook. <br />On GitHub, the HTML representation is unable to render, please try loading this page with nbviewer.org.</b></div><div class=\"sk-container\" hidden><div class=\"sk-item sk-dashed-wrapped\"><div class=\"sk-label-container\"><div class=\"sk-label fitted sk-toggleable\"><input class=\"sk-toggleable__control sk-hidden--visually\" id=\"sk-estimator-id-1\" type=\"checkbox\" ><label for=\"sk-estimator-id-1\" class=\"sk-toggleable__label fitted sk-toggleable__label-arrow fitted\">&nbsp;&nbsp;Pipeline<a class=\"sk-estimator-doc-link fitted\" rel=\"noreferrer\" target=\"_blank\" href=\"https://scikit-learn.org/1.5/modules/generated/sklearn.pipeline.Pipeline.html\">?<span>Documentation for Pipeline</span></a><span class=\"sk-estimator-doc-link fitted\">i<span>Fitted</span></span></label><div class=\"sk-toggleable__content fitted\"><pre>Pipeline(steps=[(&#x27;preprocessor&#x27;,\n",
       "                 ColumnTransformer(remainder=&#x27;passthrough&#x27;,\n",
       "                                   transformers=[(&#x27;scaler&#x27;, StandardScaler(),\n",
       "                                                  [&#x27;Z(Ohm)&#x27;, &#x27;Last5Z&#x27;,\n",
       "                                                   &#x27;Last5increase&#x27;, &#x27;PA&#x27;])])),\n",
       "                (&#x27;classifier&#x27;, RandomForestClassifier(random_state=42))])</pre></div> </div></div><div class=\"sk-serial\"><div class=\"sk-item sk-dashed-wrapped\"><div class=\"sk-label-container\"><div class=\"sk-label fitted sk-toggleable\"><input class=\"sk-toggleable__control sk-hidden--visually\" id=\"sk-estimator-id-2\" type=\"checkbox\" ><label for=\"sk-estimator-id-2\" class=\"sk-toggleable__label fitted sk-toggleable__label-arrow fitted\">&nbsp;preprocessor: ColumnTransformer<a class=\"sk-estimator-doc-link fitted\" rel=\"noreferrer\" target=\"_blank\" href=\"https://scikit-learn.org/1.5/modules/generated/sklearn.compose.ColumnTransformer.html\">?<span>Documentation for preprocessor: ColumnTransformer</span></a></label><div class=\"sk-toggleable__content fitted\"><pre>ColumnTransformer(remainder=&#x27;passthrough&#x27;,\n",
       "                  transformers=[(&#x27;scaler&#x27;, StandardScaler(),\n",
       "                                 [&#x27;Z(Ohm)&#x27;, &#x27;Last5Z&#x27;, &#x27;Last5increase&#x27;, &#x27;PA&#x27;])])</pre></div> </div></div><div class=\"sk-parallel\"><div class=\"sk-parallel-item\"><div class=\"sk-item\"><div class=\"sk-label-container\"><div class=\"sk-label fitted sk-toggleable\"><input class=\"sk-toggleable__control sk-hidden--visually\" id=\"sk-estimator-id-3\" type=\"checkbox\" ><label for=\"sk-estimator-id-3\" class=\"sk-toggleable__label fitted sk-toggleable__label-arrow fitted\">scaler</label><div class=\"sk-toggleable__content fitted\"><pre>[&#x27;Z(Ohm)&#x27;, &#x27;Last5Z&#x27;, &#x27;Last5increase&#x27;, &#x27;PA&#x27;]</pre></div> </div></div><div class=\"sk-serial\"><div class=\"sk-item\"><div class=\"sk-estimator fitted sk-toggleable\"><input class=\"sk-toggleable__control sk-hidden--visually\" id=\"sk-estimator-id-4\" type=\"checkbox\" ><label for=\"sk-estimator-id-4\" class=\"sk-toggleable__label fitted sk-toggleable__label-arrow fitted\">&nbsp;StandardScaler<a class=\"sk-estimator-doc-link fitted\" rel=\"noreferrer\" target=\"_blank\" href=\"https://scikit-learn.org/1.5/modules/generated/sklearn.preprocessing.StandardScaler.html\">?<span>Documentation for StandardScaler</span></a></label><div class=\"sk-toggleable__content fitted\"><pre>StandardScaler()</pre></div> </div></div></div></div></div><div class=\"sk-parallel-item\"><div class=\"sk-item\"><div class=\"sk-label-container\"><div class=\"sk-label fitted sk-toggleable\"><input class=\"sk-toggleable__control sk-hidden--visually\" id=\"sk-estimator-id-5\" type=\"checkbox\" ><label for=\"sk-estimator-id-5\" class=\"sk-toggleable__label fitted sk-toggleable__label-arrow fitted\">remainder</label><div class=\"sk-toggleable__content fitted\"><pre>[&#x27;Freq(Hz)&#x27;, &#x27;Time(m)&#x27;, &#x27;Total carbohydrate&#x27;, &#x27;pH&#x27;, &#x27;ORP&#x27;, &#x27;Conductivity (400H)&#x27;, &#x27;Conductivity (10kH)&#x27;, &#x27;DO (ppm)&#x27;, &#x27;a*&#x27;, &#x27;b*&#x27;, &#x27;Last5freq&#x27;, &#x27;Last5slope&#x27;, &#x27;Last5increasePA&#x27;, &#x27;Last5PA&#x27;, &#x27;Last5slopePA&#x27;]</pre></div> </div></div><div class=\"sk-serial\"><div class=\"sk-item\"><div class=\"sk-estimator fitted sk-toggleable\"><input class=\"sk-toggleable__control sk-hidden--visually\" id=\"sk-estimator-id-6\" type=\"checkbox\" ><label for=\"sk-estimator-id-6\" class=\"sk-toggleable__label fitted sk-toggleable__label-arrow fitted\">passthrough</label><div class=\"sk-toggleable__content fitted\"><pre>passthrough</pre></div> </div></div></div></div></div></div></div><div class=\"sk-item\"><div class=\"sk-estimator fitted sk-toggleable\"><input class=\"sk-toggleable__control sk-hidden--visually\" id=\"sk-estimator-id-7\" type=\"checkbox\" ><label for=\"sk-estimator-id-7\" class=\"sk-toggleable__label fitted sk-toggleable__label-arrow fitted\">&nbsp;RandomForestClassifier<a class=\"sk-estimator-doc-link fitted\" rel=\"noreferrer\" target=\"_blank\" href=\"https://scikit-learn.org/1.5/modules/generated/sklearn.ensemble.RandomForestClassifier.html\">?<span>Documentation for RandomForestClassifier</span></a></label><div class=\"sk-toggleable__content fitted\"><pre>RandomForestClassifier(random_state=42)</pre></div> </div></div></div></div></div></div>"
      ],
      "text/plain": [
       "Pipeline(steps=[('preprocessor',\n",
       "                 ColumnTransformer(remainder='passthrough',\n",
       "                                   transformers=[('scaler', StandardScaler(),\n",
       "                                                  ['Z(Ohm)', 'Last5Z',\n",
       "                                                   'Last5increase', 'PA'])])),\n",
       "                ('classifier', RandomForestClassifier(random_state=42))])"
      ]
     },
     "execution_count": 13,
     "metadata": {},
     "output_type": "execute_result"
    }
   ],
   "source": [
    "pipeline.fit(X_train, y_train)"
   ]
  },
  {
   "cell_type": "code",
   "execution_count": 14,
   "id": "5094c09b-5dad-4b56-a1cb-69c859c93e18",
   "metadata": {},
   "outputs": [],
   "source": [
    "pickle.dump(X_test, open('X_test.pkl', 'wb'))\n",
    "pickle.dump(y_test, open('y_test.pkl', 'wb'))\n",
    "y_pred = pipeline.predict(X_test)"
   ]
  },
  {
   "cell_type": "markdown",
   "id": "602fbf44-e2b2-4611-9f99-e1884e6f32fe",
   "metadata": {},
   "source": [
    "### Model Evaluation"
   ]
  },
  {
   "cell_type": "code",
   "execution_count": 15,
   "id": "bb6f3425-5fbf-4da7-8b58-29c5ef4103c3",
   "metadata": {},
   "outputs": [
    {
     "name": "stdout",
     "output_type": "stream",
     "text": [
      "Test set predictions: [1 1 0 ... 1 1 1]\n",
      "Model accuracy on test set: 0.9117432530999271\n"
     ]
    }
   ],
   "source": [
    "print(\"Test set predictions:\", y_pred)\n",
    "print(\"Model accuracy on test set:\", pipeline.score(X_test, y_test))"
   ]
  },
  {
   "cell_type": "code",
   "execution_count": 16,
   "id": "4290ba5a-b28b-4ab4-b731-38462ac85646",
   "metadata": {},
   "outputs": [],
   "source": [
    "import pickle\n",
    "save_path = 'finalmodel2.pkl'\n",
    "pickle.dump(pipeline, open(save_path, 'wb'))\n",
    "# Save the model to use it later. Edit save_path as necessary"
   ]
  },
  {
   "cell_type": "code",
   "execution_count": 17,
   "id": "2580c656-c7f2-42f1-a3a8-9397babde1be",
   "metadata": {},
   "outputs": [],
   "source": [
    "from sklearn.metrics import confusion_matrix"
   ]
  },
  {
   "cell_type": "code",
   "execution_count": 18,
   "id": "a69c6207-bacd-4895-922d-cd66da523406",
   "metadata": {},
   "outputs": [
    {
     "data": {
      "text/plain": [
       "array([[1339,  118],\n",
       "       [ 124, 1161]], dtype=int64)"
      ]
     },
     "execution_count": 18,
     "metadata": {},
     "output_type": "execute_result"
    }
   ],
   "source": [
    "confusion_matrix(y_test, y_pred)"
   ]
  },
  {
   "cell_type": "markdown",
   "id": "19d1e713-256b-468b-a849-042359593baf",
   "metadata": {},
   "source": [
    "### Feature Importance - Unimportant for now"
   ]
  },
  {
   "cell_type": "code",
   "execution_count": 19,
   "id": "eb64fb9c-b61d-4954-bbae-e346487f71ad",
   "metadata": {},
   "outputs": [],
   "source": [
    "# We might need feature importance to reduce dimensionality further. If a variable\n",
    "# has a very low importance, we can experiment dropping it and re-training the model"
   ]
  },
  {
   "cell_type": "code",
   "execution_count": 20,
   "id": "28c7c6c4-b296-4fb6-adea-d33d98c31fe1",
   "metadata": {},
   "outputs": [],
   "source": [
    "model = pipeline.named_steps['classifier']\n"
   ]
  },
  {
   "cell_type": "code",
   "execution_count": 21,
   "id": "974e80a1-7081-4376-a9f0-f92f7e9c4c5a",
   "metadata": {},
   "outputs": [],
   "source": [
    "fi = model.feature_importances_"
   ]
  },
  {
   "cell_type": "code",
   "execution_count": 22,
   "id": "25e3a925-bfe3-41fc-ac4d-77e432fd219d",
   "metadata": {},
   "outputs": [],
   "source": [
    "fidf = pd.DataFrame()"
   ]
  },
  {
   "cell_type": "code",
   "execution_count": 23,
   "id": "4ed066a5-6c10-4dda-8a81-512c67d95567",
   "metadata": {},
   "outputs": [
    {
     "data": {
      "text/html": [
       "<div>\n",
       "<style scoped>\n",
       "    .dataframe tbody tr th:only-of-type {\n",
       "        vertical-align: middle;\n",
       "    }\n",
       "\n",
       "    .dataframe tbody tr th {\n",
       "        vertical-align: top;\n",
       "    }\n",
       "\n",
       "    .dataframe thead th {\n",
       "        text-align: right;\n",
       "    }\n",
       "</style>\n",
       "<table border=\"1\" class=\"dataframe\">\n",
       "  <thead>\n",
       "    <tr style=\"text-align: right;\">\n",
       "      <th></th>\n",
       "      <th>columns</th>\n",
       "      <th>imp</th>\n",
       "    </tr>\n",
       "  </thead>\n",
       "  <tbody>\n",
       "    <tr>\n",
       "      <th>0</th>\n",
       "      <td>Freq(Hz)</td>\n",
       "      <td>0.128928</td>\n",
       "    </tr>\n",
       "    <tr>\n",
       "      <th>1</th>\n",
       "      <td>Z(Ohm)</td>\n",
       "      <td>0.121543</td>\n",
       "    </tr>\n",
       "    <tr>\n",
       "      <th>2</th>\n",
       "      <td>PA</td>\n",
       "      <td>0.075868</td>\n",
       "    </tr>\n",
       "    <tr>\n",
       "      <th>3</th>\n",
       "      <td>Time(m)</td>\n",
       "      <td>0.081928</td>\n",
       "    </tr>\n",
       "    <tr>\n",
       "      <th>4</th>\n",
       "      <td>Total carbohydrate</td>\n",
       "      <td>0.043440</td>\n",
       "    </tr>\n",
       "    <tr>\n",
       "      <th>5</th>\n",
       "      <td>pH</td>\n",
       "      <td>0.020682</td>\n",
       "    </tr>\n",
       "    <tr>\n",
       "      <th>6</th>\n",
       "      <td>ORP</td>\n",
       "      <td>0.012939</td>\n",
       "    </tr>\n",
       "    <tr>\n",
       "      <th>7</th>\n",
       "      <td>Conductivity (400H)</td>\n",
       "      <td>0.015724</td>\n",
       "    </tr>\n",
       "    <tr>\n",
       "      <th>8</th>\n",
       "      <td>Conductivity (10kH)</td>\n",
       "      <td>0.015798</td>\n",
       "    </tr>\n",
       "    <tr>\n",
       "      <th>9</th>\n",
       "      <td>DO (ppm)</td>\n",
       "      <td>0.020749</td>\n",
       "    </tr>\n",
       "    <tr>\n",
       "      <th>10</th>\n",
       "      <td>a*</td>\n",
       "      <td>0.018766</td>\n",
       "    </tr>\n",
       "    <tr>\n",
       "      <th>11</th>\n",
       "      <td>b*</td>\n",
       "      <td>0.014670</td>\n",
       "    </tr>\n",
       "    <tr>\n",
       "      <th>12</th>\n",
       "      <td>Last5Z</td>\n",
       "      <td>0.012201</td>\n",
       "    </tr>\n",
       "    <tr>\n",
       "      <th>13</th>\n",
       "      <td>Last5increase</td>\n",
       "      <td>0.012685</td>\n",
       "    </tr>\n",
       "    <tr>\n",
       "      <th>14</th>\n",
       "      <td>Last5freq</td>\n",
       "      <td>0.044930</td>\n",
       "    </tr>\n",
       "    <tr>\n",
       "      <th>15</th>\n",
       "      <td>Last5slope</td>\n",
       "      <td>0.068566</td>\n",
       "    </tr>\n",
       "    <tr>\n",
       "      <th>16</th>\n",
       "      <td>Last5increasePA</td>\n",
       "      <td>0.089247</td>\n",
       "    </tr>\n",
       "    <tr>\n",
       "      <th>17</th>\n",
       "      <td>Last5PA</td>\n",
       "      <td>0.082305</td>\n",
       "    </tr>\n",
       "    <tr>\n",
       "      <th>18</th>\n",
       "      <td>Last5slopePA</td>\n",
       "      <td>0.119030</td>\n",
       "    </tr>\n",
       "  </tbody>\n",
       "</table>\n",
       "</div>"
      ],
      "text/plain": [
       "                columns       imp\n",
       "0              Freq(Hz)  0.128928\n",
       "1                Z(Ohm)  0.121543\n",
       "2                    PA  0.075868\n",
       "3               Time(m)  0.081928\n",
       "4    Total carbohydrate  0.043440\n",
       "5                    pH  0.020682\n",
       "6                   ORP  0.012939\n",
       "7   Conductivity (400H)  0.015724\n",
       "8   Conductivity (10kH)  0.015798\n",
       "9              DO (ppm)  0.020749\n",
       "10                   a*  0.018766\n",
       "11                   b*  0.014670\n",
       "12               Last5Z  0.012201\n",
       "13        Last5increase  0.012685\n",
       "14            Last5freq  0.044930\n",
       "15           Last5slope  0.068566\n",
       "16      Last5increasePA  0.089247\n",
       "17              Last5PA  0.082305\n",
       "18         Last5slopePA  0.119030"
      ]
     },
     "execution_count": 23,
     "metadata": {},
     "output_type": "execute_result"
    }
   ],
   "source": [
    "fidf['columns']=X_train.columns\n",
    "fidf['imp'] = fi\n",
    "fidf"
   ]
  },
  {
   "cell_type": "markdown",
   "id": "a76c4aaa-1965-42dd-a881-79f1051086b0",
   "metadata": {},
   "source": [
    "### Splitting into frequency and food"
   ]
  },
  {
   "cell_type": "code",
   "execution_count": 24,
   "id": "598db857-9779-4a3d-a6ce-c67847857ce4",
   "metadata": {},
   "outputs": [],
   "source": [
    "results = X_test_foods.copy()\n",
    "results['true'] = y_test.values\n",
    "results['pred'] = y_pred\n",
    "results['correct'] = results['true'] == results['pred']\n"
   ]
  },
  {
   "cell_type": "code",
   "execution_count": 25,
   "id": "14719106-3d58-4f9a-bf37-aecac0964fea",
   "metadata": {},
   "outputs": [],
   "source": [
    "bins = [100007, 56243.5, 31634.1, 17778.2, 9998.2, 5622.14, \n",
    "        3162.67, 1778.51, 999.95, 562.189, 316.113, 177.836, 100.009, 9.9987]\n",
    "bins = bins[::-1]\n",
    "bins2 = [100007, 56243.5, 31634.1,28173.1, 25123.7, 22389.3, 19954.4, 17778.2, 9998.2, 5622.14, \n",
    "        3162.67, 1778.51, 999.95, 562.189, 316.113, 177.836, 100.009, 9.9987]\n",
    "bins2 = bins2[::-1]\n",
    "\n",
    "# Analyse the accuracy by frequency. bins has an even distributuon of frequencies,\n",
    "# and bins2 has it further split to find the single best frequency"
   ]
  },
  {
   "cell_type": "code",
   "execution_count": 26,
   "id": "1bc1ed9e-5def-46e2-a222-8e159600bdd2",
   "metadata": {},
   "outputs": [],
   "source": [
    "\n",
    "labels = ['9-100', '100-177', '177-316', '316-562', '562-999', '999-1778',\n",
    "         '1778-3162', '3162-5622', '5622-9998', '9998-17778', '17778-31634',\n",
    "         '31634-56243', '>56243']\n",
    "labels2 = ['9-100', '100-177', '177-316', '316-562', '562-999', '999-1778',\n",
    "         '1778-3162', '3162-5622', '5622-9998', '9998-17778', '17778-19954','19954+','22389+', '25123+', '28173+', '31634-56243', '>56243']\n"
   ]
  },
  {
   "cell_type": "code",
   "execution_count": 27,
   "id": "3df53070-349e-4504-b0f4-3b166ff8684d",
   "metadata": {},
   "outputs": [],
   "source": [
    "results['frequency_bin'] = pd.cut(results['Freq(Hz)'], bins=bins2, labels=labels2, right=False)"
   ]
  },
  {
   "cell_type": "code",
   "execution_count": 28,
   "id": "e8576901-550a-438d-9658-ff300c38a49a",
   "metadata": {},
   "outputs": [],
   "source": [
    "pickle.dump(results, open('results.pkl', 'wb'))\n",
    "# Save outr resuls df for later to analyse it in the 'final_model_food_analysis' file"
   ]
  },
  {
   "cell_type": "code",
   "execution_count": 29,
   "id": "a4652db7-08ae-4c1e-8d9b-f9ebeb15aafe",
   "metadata": {},
   "outputs": [],
   "source": [
    "import matplotlib.pyplot as plt"
   ]
  },
  {
   "cell_type": "code",
   "execution_count": 30,
   "id": "9804edcc-1625-4a24-956d-c607566ec8b4",
   "metadata": {},
   "outputs": [
    {
     "name": "stderr",
     "output_type": "stream",
     "text": [
      "C:\\Users\\maima\\AppData\\Local\\Temp\\ipykernel_33292\\2915935425.py:1: FutureWarning: The default of observed=False is deprecated and will be changed to True in a future version of pandas. Pass observed=False to retain current behavior or observed=True to adopt the future default and silence this warning.\n",
      "  accuracy_by_bin = results.groupby('frequency_bin')['correct'].mean()\n"
     ]
    },
    {
     "data": {
      "image/png": "[encoded data removed]",
      "text/plain": [
       "<Figure size 1000x600 with 1 Axes>"
      ]
     },
     "metadata": {},
     "output_type": "display_data"
    }
   ],
   "source": [
    "accuracy_by_bin = results.groupby('frequency_bin')['correct'].mean()\n",
    "\n",
    "# Plot accuracy versus frequency range\n",
    "plt.figure(figsize=(10, 6))\n",
    "accuracy_by_bin.plot(kind='bar', color='skyblue')\n",
    "plt.xlabel('Frequency Range')\n",
    "plt.ylabel('Accuracy')\n",
    "plt.title('Model Accuracy by Frequency Range')\n",
    "plt.xticks(rotation=45)\n",
    "plt.ylim(0, 1)\n",
    "plt.show()"
   ]
  },
  {
   "cell_type": "code",
   "execution_count": 31,
   "id": "470254eb-e29f-480c-a833-4dbaa7ef533a",
   "metadata": {},
   "outputs": [
    {
     "data": {
      "text/plain": [
       "frequency_bin\n",
       "9-100          0.877729\n",
       "100-177        0.952703\n",
       "177-316        0.906736\n",
       "316-562        0.962264\n",
       "562-999        0.943820\n",
       "999-1778       0.953488\n",
       "1778-3162      0.903614\n",
       "3162-5622      0.878049\n",
       "5622-9998      0.932584\n",
       "9998-17778     0.890323\n",
       "17778-19954    0.958333\n",
       "19954+         1.000000\n",
       "22389+         0.885714\n",
       "25123+         0.975610\n",
       "28173+         0.914286\n",
       "31634-56243    0.920455\n",
       ">56243         0.900585\n",
       "Name: correct, dtype: float64"
      ]
     },
     "execution_count": 31,
     "metadata": {},
     "output_type": "execute_result"
    }
   ],
   "source": [
    "accuracy_by_bin"
   ]
  },
  {
   "cell_type": "code",
   "execution_count": 32,
   "id": "f1b3ae33-b75b-48ed-b9d1-4505cf65317b",
   "metadata": {},
   "outputs": [],
   "source": [
    "accuracy_per_food = results.groupby('Food')['correct'].mean().sort_values(ascending = False)"
   ]
  },
  {
   "cell_type": "code",
   "execution_count": 33,
   "id": "2c934066-763e-4dee-83b8-1632bef8cfcf",
   "metadata": {},
   "outputs": [
    {
     "data": {
      "text/plain": [
       "Food\n",
       "Apple Juice        1.000000\n",
       "Cream              1.000000\n",
       "Cranberry Juice    0.994253\n",
       "Grape Juice        0.993333\n",
       "Chicken            0.987261\n",
       "Milk0              0.972603\n",
       "Half and Half      0.970238\n",
       "Orange Juice       0.958621\n",
       "Tomato Paste       0.957447\n",
       "Soy Bean           0.923077\n",
       "Beef               0.890295\n",
       "Milk1              0.884615\n",
       "Yogurt             0.865031\n",
       "Veg Soup           0.831395\n",
       "Milk2              0.780899\n",
       "Milk34             0.606250\n",
       "Name: correct, dtype: float64"
      ]
     },
     "execution_count": 33,
     "metadata": {},
     "output_type": "execute_result"
    }
   ],
   "source": [
    "accuracy_per_food\n"
   ]
  },
  {
   "cell_type": "code",
   "execution_count": 34,
   "id": "54792501-6602-4b2e-9a83-16cf07730bf1",
   "metadata": {},
   "outputs": [
    {
     "data": {
      "image/png": "[encoded data removed]",
      "text/plain": [
       "<Figure size 1000x600 with 1 Axes>"
      ]
     },
     "metadata": {},
     "output_type": "display_data"
    }
   ],
   "source": [
    "plt.figure(figsize=(10, 6))\n",
    "accuracy_per_food.plot(kind='bar', color='blue')\n",
    "plt.xlabel('Food')\n",
    "plt.ylabel('Accuracy')\n",
    "plt.title('Model Accuracy by Food')\n",
    "plt.xticks(rotation=45)\n",
    "plt.ylim(0, 1)\n",
    "plt.show()"
   ]
  },
  {
   "cell_type": "code",
   "execution_count": null,
   "id": "b6b7e0b6-0af4-494d-9ee0-1a7eeb268332",
   "metadata": {},
   "outputs": [],
   "source": []
  }
 ],
 "metadata": {
  "kernelspec": {
   "display_name": "Python 3 (ipykernel)",
   "language": "python",
   "name": "python3"
  },
  "language_info": {
   "codemirror_mode": {
    "name": "ipython",
    "version": 3
   },
   "file_extension": ".py",
   "mimetype": "text/x-python",
   "name": "python",
   "nbconvert_exporter": "python",
   "pygments_lexer": "ipython3",
   "version": "3.12.3"
  }
 },
 "nbformat": 4,
 "nbformat_minor": 5
}
